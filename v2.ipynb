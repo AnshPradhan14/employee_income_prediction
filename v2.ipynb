{
 "cells": [
  {
   "cell_type": "markdown",
   "id": "40a52af8",
   "metadata": {},
   "source": [
    "# Employee Income Prediction ML Application\n",
    "\n",
    "This machine learning project is designed to predict whether an individual's income exceeds **$50K USD per year** based on demographic and work-related attributes. The model is trained on the widely used **UCI Adult Income Dataset** and provides predictions via an intuitive web interface using **Streamlit**.\n",
    "\n",
    "## Project Overview\n",
    "\n",
    "- Problem Statement: Predict the income of individuals (`<=50K` or `>50K`) from structured census and demographic data.\n",
    "- Dataset: UCI Adult Income Census dataset (45K+ instances); includes features like age, education, occupation, capital gains/losses, hours worked per week, etc.\n",
    "- Target Variable: `income` (binary: `<=50K`, `>50K`)\n",
    "\n",
    "## Features\n",
    "\n",
    "Train & Compare Multiple ML Models:\n",
    "- Logistic Regression\n",
    "- Decision Tree\n",
    "- Random Forest\n",
    "- Gradient Boosting\n",
    "- XGBoost\n",
    "- Linear Regression (for reference)\n",
    "- Polynomial Regression\n",
    "\n",
    "Key Functionality:\n",
    "- Dynamic feature selection via checkboxes\n",
    "- Model selection to compare performance and predictions\n",
    "- Automated model evaluation and ranking\n",
    "- Hyperparameter tuning for selected models (optional)\n",
    "- Live prediction interface with real-time form inputs\n",
    "- Optimized training and preprocessing pipeline using `scikit-learn` Pipelines\n"
   ]
  },
  {
   "cell_type": "markdown",
   "id": "4f5bb423",
   "metadata": {},
   "source": [
    "### DataPreprocessor: A Data Preparation Pipeline for the UCI Adult Dataset\n",
    "This notebook provides a reusable DataPreprocessor class for working with the UCI Adult dataset. It covers downloading, loading, cleaning, encoding, scaling, and preparing data for machine learning tasks.\n",
    "\n",
    "**Key Features**\n",
    "- **Automated Download:** Fetches the Adult dataset from the UCI ML repository if not present locally.\n",
    "- **Clean Data:** Handles missing values and removes incomplete records.\n",
    "- **Feature Encoding:** Applies label encoding to categorical features and the target.\n",
    "- **Feature Scaling:** Standardizes numerical features.\n",
    "- **Train-Test Split:** Prepares data for modeling with stratified sampling.\n",
    "- **Single Input Preprocessing:** Allows easy preprocessing of new data samples for prediction."
   ]
  },
  {
   "cell_type": "code",
   "execution_count": 1,
   "id": "b51e41ca",
   "metadata": {},
   "outputs": [],
   "source": [
    "import pandas as pd\n",
    "import numpy as np\n",
    "from sklearn.preprocessing import LabelEncoder, StandardScaler\n",
    "from sklearn.model_selection import train_test_split\n",
    "import urllib.request\n",
    "import os\n",
    "\n",
    "class DataPreprocessor:\n",
    "    def __init__(self):\n",
    "        self.label_encoders = {}\n",
    "        self.scaler = StandardScaler()\n",
    "        self.feature_names = []\n",
    "\n",
    "    def download_data(self, data_path='data/'):\n",
    "        \"\"\"Download the Adult dataset from UCI repository\"\"\"\n",
    "        if not os.path.exists(data_path):\n",
    "            os.makedirs(data_path)\n",
    "\n",
    "        url = 'https://archive.ics.uci.edu/ml/machine-learning-databases/adult/adult.data'\n",
    "        filename = os.path.join(data_path, 'adult.data')\n",
    "\n",
    "        if not os.path.exists(filename):\n",
    "            print(\"Downloading Adult dataset...\")\n",
    "            urllib.request.urlretrieve(url, filename)\n",
    "            print(f\"Dataset downloaded to {filename}\")\n",
    "        else:\n",
    "            print(f\"Dataset already exists at {filename}\")\n",
    "\n",
    "        return filename\n",
    "\n",
    "    def load_data(self, filepath):\n",
    "        \"\"\"Load and return the dataset with proper column names\"\"\"\n",
    "        column_names = [\n",
    "            'age', 'workclass', 'fnlwgt', 'education', 'educational_num',\n",
    "            'marital_status', 'occupation', 'relationship', 'race', 'gender',\n",
    "            'capital_gain', 'capital_loss', 'hours_per_week', 'native_country', 'income'\n",
    "        ]\n",
    "\n",
    "        df = pd.read_csv(filepath, names=column_names, skipinitialspace=True)\n",
    "        return df\n",
    "\n",
    "    def clean_data(self, df):\n",
    "        \"\"\"Clean the dataset by handling missing values and inconsistencies\"\"\"\n",
    "        # Replace '?' with NaN\n",
    "        df = df.replace('?', np.nan)\n",
    "\n",
    "        # Remove rows with missing values\n",
    "        df = df.dropna()\n",
    "\n",
    "        # Reset index\n",
    "        df = df.reset_index(drop=True)\n",
    "\n",
    "        print(f\"Data shape after cleaning: {df.shape}\")\n",
    "        print(f\"Missing values: {df.isnull().sum().sum()}\")\n",
    "\n",
    "        return df\n",
    "\n",
    "    def encode_features(self, df, fit=True):\n",
    "        \"\"\"Encode categorical variables\"\"\"\n",
    "        df_encoded = df.copy()\n",
    "\n",
    "        categorical_columns = ['workclass', 'education', 'marital_status', 'occupation',\n",
    "                             'relationship', 'race', 'gender', 'native_country']\n",
    "\n",
    "        for col in categorical_columns:\n",
    "            if col in df_encoded.columns:\n",
    "                if fit:\n",
    "                    le = LabelEncoder()\n",
    "                    df_encoded[col] = le.fit_transform(df_encoded[col])\n",
    "                    self.label_encoders[col] = le\n",
    "                else:\n",
    "                    if col in self.label_encoders:\n",
    "                        # Handle unseen categories\n",
    "                        le = self.label_encoders[col]\n",
    "                        df_encoded[col] = df_encoded[col].map(lambda x: le.transform([x])[0] \n",
    "                                                            if x in le.classes_ else -1)\n",
    "\n",
    "        # Encode target variable\n",
    "        if 'income' in df_encoded.columns:\n",
    "            if fit:\n",
    "                le_target = LabelEncoder()\n",
    "                df_encoded['income'] = le_target.fit_transform(df_encoded['income'])\n",
    "                self.label_encoders['income'] = le_target\n",
    "            else:\n",
    "                le_target = self.label_encoders['income']\n",
    "                df_encoded['income'] = le_target.transform(df_encoded['income'])\n",
    "\n",
    "        return df_encoded\n",
    "\n",
    "    def scale_features(self, X_train, X_test=None, fit=True):\n",
    "        \"\"\"Scale numerical features\"\"\"\n",
    "        numerical_columns = ['age', 'fnlwgt', 'educational_num', 'capital_gain', \n",
    "                           'capital_loss', 'hours_per_week']\n",
    "\n",
    "        X_train_scaled = X_train.copy()\n",
    "\n",
    "        if fit:\n",
    "            X_train_scaled[numerical_columns] = self.scaler.fit_transform(X_train[numerical_columns])\n",
    "        else:\n",
    "            X_train_scaled[numerical_columns] = self.scaler.transform(X_train[numerical_columns])\n",
    "\n",
    "        if X_test is not None:\n",
    "            X_test_scaled = X_test.copy()\n",
    "            X_test_scaled[numerical_columns] = self.scaler.transform(X_test[numerical_columns])\n",
    "            return X_train_scaled, X_test_scaled\n",
    "\n",
    "        return X_train_scaled\n",
    "\n",
    "    def prepare_data(self, test_size=0.2, random_state=42):\n",
    "        \"\"\"Complete data preparation pipeline\"\"\"\n",
    "        # Download and load data\n",
    "        filepath = self.download_data()\n",
    "        df = self.load_data(filepath)\n",
    "\n",
    "        print(f\"Original data shape: {df.shape}\")\n",
    "        print(f\"\\nTarget distribution:\\n{df['income'].value_counts()}\")\n",
    "\n",
    "        # Clean data\n",
    "        df_clean = self.clean_data(df)\n",
    "\n",
    "        # Encode categorical variables\n",
    "        df_encoded = self.encode_features(df_clean, fit=True)\n",
    "\n",
    "        # Separate features and target\n",
    "        X = df_encoded.drop('income', axis=1)\n",
    "        y = df_encoded['income']\n",
    "\n",
    "        # Store feature names\n",
    "        self.feature_names = X.columns.tolist()\n",
    "\n",
    "        # Split data\n",
    "        X_train, X_test, y_train, y_test = train_test_split(\n",
    "            X, y, test_size=test_size, random_state=random_state, stratify=y\n",
    "        )\n",
    "\n",
    "        # Scale features\n",
    "        X_train_scaled, X_test_scaled = self.scale_features(X_train, X_test, fit=True)\n",
    "\n",
    "        print(f\"\\nTraining set shape: {X_train_scaled.shape}\")\n",
    "        print(f\"Test set shape: {X_test_scaled.shape}\")\n",
    "\n",
    "        return X_train_scaled, X_test_scaled, y_train, y_test, df_clean\n",
    "\n",
    "    def preprocess_single_input(self, input_data):\n",
    "        \"\"\"Preprocess a single input for prediction\"\"\"\n",
    "        df_input = pd.DataFrame([input_data])\n",
    "\n",
    "        # Encode categorical variables\n",
    "        df_encoded = self.encode_features(df_input, fit=False)\n",
    "\n",
    "        # Scale numerical features\n",
    "        df_scaled = self.scale_features(df_encoded, fit=False)\n",
    "\n",
    "        return df_scaled\n"
   ]
  },
  {
   "cell_type": "markdown",
   "id": "7abec529",
   "metadata": {},
   "source": [
    "## Employee Income Prediction - Main Training Script\n",
    "\n",
    "This script is the primary entry point for building a machine learning pipeline to predict employee income using the UCI Adult Income dataset. It orchestrates the entire process, from data preprocessing to model training, evaluation, and saving the final models.\n",
    "\n",
    "---\n",
    "\n",
    "## Overview\n",
    "The pipeline includes the following key steps:\n",
    "\n",
    "### Data Preprocessing\n",
    "- Loads and cleans the UCI Adult dataset.\n",
    "- Encodes categorical features and scales numerical columns.\n",
    "- Splits the data into training and test sets.\n",
    "- Generates an EDA (Exploratory Data Analysis) report.\n",
    "\n",
    "### Model Training\n",
    "- Trains multiple classification models.\n",
    "- Compares model performance using metrics like **accuracy** and **ROC-AUC**.\n",
    "- Displays a summary of results.\n",
    "\n",
    "### Hyperparameter Tuning *(Optional)*\n",
    "- Conducts hyperparameter tuning for selected models (e.g., **Random Forest**, **XGBoost**).\n",
    "- Evaluates and compares tuned model performance.\n",
    "- Updates best model if tuning yields improvement.\n",
    "\n",
    "### Feature Importance\n",
    "- Analyzes and plots feature importances for models that support it.\n",
    "- Outputs the top 10 most important features contributing to income prediction.\n",
    "\n",
    "### Final Model Evaluation\n",
    "- Evaluates the performance of the final (best) model on the test set.\n",
    "- Displays key metrics like **accuracy** and **ROC-AUC**.\n",
    "\n",
    "### Saving Results\n",
    "- Saves the best model to disk.\n",
    "- Persists the preprocessing pipeline using `joblib`.\n",
    "- Stores model metadata, including evaluation metrics and selected features, in a `JSON` file.\n",
    "\n",
    "\n",
    "### Key Modules Used\n",
    "- `data_preprocessing`: Handles data loading, cleaning, encoding, and scaling.\n",
    "- `model_training`: Trains, evaluates, and tunes various ML models.\n",
    "- `utils`: Utility functions for EDA report generation and plotting.\n",
    "\n"
   ]
  },
  {
   "cell_type": "code",
   "execution_count": null,
   "id": "916cf9f5",
   "metadata": {},
   "outputs": [
    {
     "name": "stdout",
     "output_type": "stream",
     "text": [
      "Starting Employee Income Prediction ML Pipeline\n",
      "============================================================\n",
      "\n",
      "STEP 1: Data Preprocessing\n",
      "------------------------------\n",
      "Dataset already exists at data/adult.data\n",
      "Original data shape: (32561, 15)\n",
      "\n",
      "Target distribution:\n",
      "income\n",
      "<=50K    24720\n",
      ">50K      7841\n",
      "Name: count, dtype: int64\n",
      "Data shape after cleaning: (30162, 15)\n",
      "Missing values: 0\n",
      "\n",
      "Training set shape: (24129, 14)\n",
      "Test set shape: (6033, 14)\n",
      "\n",
      "📈 Dataset Overview:\n",
      "Shape: (30162, 15)\n",
      "Features: ['age', 'workclass', 'fnlwgt', 'education', 'educational_num', 'marital_status', 'occupation', 'relationship', 'race', 'gender', 'capital_gain', 'capital_loss', 'hours_per_week', 'native_country']\n",
      "\n",
      "STEP 2: Model Training\n",
      "------------------------------\n",
      "Training models...\n",
      "==================================================\n",
      "\n",
      "Training Logistic Regression...\n"
     ]
    },
    {
     "name": "stderr",
     "output_type": "stream",
     "text": [
      "c:\\Users\\Ansh\\AppData\\Local\\Programs\\Python\\Python312\\Lib\\site-packages\\sklearn\\linear_model\\_logistic.py:470: ConvergenceWarning: lbfgs failed to converge after 100 iteration(s) (status=1):\n",
      "STOP: TOTAL NO. OF ITERATIONS REACHED LIMIT\n",
      "\n",
      "Increase the number of iterations to improve the convergence (max_iter=100).\n",
      "You might also want to scale the data as shown in:\n",
      "    https://scikit-learn.org/stable/modules/preprocessing.html\n",
      "Please also refer to the documentation for alternative solver options:\n",
      "    https://scikit-learn.org/stable/modules/linear_model.html#logistic-regression\n",
      "  n_iter_i = _check_optimize_result(\n",
      "c:\\Users\\Ansh\\AppData\\Local\\Programs\\Python\\Python312\\Lib\\site-packages\\sklearn\\linear_model\\_logistic.py:470: ConvergenceWarning: lbfgs failed to converge after 100 iteration(s) (status=1):\n",
      "STOP: TOTAL NO. OF ITERATIONS REACHED LIMIT\n",
      "\n",
      "Increase the number of iterations to improve the convergence (max_iter=100).\n",
      "You might also want to scale the data as shown in:\n",
      "    https://scikit-learn.org/stable/modules/preprocessing.html\n",
      "Please also refer to the documentation for alternative solver options:\n",
      "    https://scikit-learn.org/stable/modules/linear_model.html#logistic-regression\n",
      "  n_iter_i = _check_optimize_result(\n",
      "c:\\Users\\Ansh\\AppData\\Local\\Programs\\Python\\Python312\\Lib\\site-packages\\sklearn\\linear_model\\_logistic.py:470: ConvergenceWarning: lbfgs failed to converge after 100 iteration(s) (status=1):\n",
      "STOP: TOTAL NO. OF ITERATIONS REACHED LIMIT\n",
      "\n",
      "Increase the number of iterations to improve the convergence (max_iter=100).\n",
      "You might also want to scale the data as shown in:\n",
      "    https://scikit-learn.org/stable/modules/preprocessing.html\n",
      "Please also refer to the documentation for alternative solver options:\n",
      "    https://scikit-learn.org/stable/modules/linear_model.html#logistic-regression\n",
      "  n_iter_i = _check_optimize_result(\n",
      "c:\\Users\\Ansh\\AppData\\Local\\Programs\\Python\\Python312\\Lib\\site-packages\\sklearn\\linear_model\\_logistic.py:470: ConvergenceWarning: lbfgs failed to converge after 100 iteration(s) (status=1):\n",
      "STOP: TOTAL NO. OF ITERATIONS REACHED LIMIT\n",
      "\n",
      "Increase the number of iterations to improve the convergence (max_iter=100).\n",
      "You might also want to scale the data as shown in:\n",
      "    https://scikit-learn.org/stable/modules/preprocessing.html\n",
      "Please also refer to the documentation for alternative solver options:\n",
      "    https://scikit-learn.org/stable/modules/linear_model.html#logistic-regression\n",
      "  n_iter_i = _check_optimize_result(\n",
      "c:\\Users\\Ansh\\AppData\\Local\\Programs\\Python\\Python312\\Lib\\site-packages\\sklearn\\linear_model\\_logistic.py:470: ConvergenceWarning: lbfgs failed to converge after 100 iteration(s) (status=1):\n",
      "STOP: TOTAL NO. OF ITERATIONS REACHED LIMIT\n",
      "\n",
      "Increase the number of iterations to improve the convergence (max_iter=100).\n",
      "You might also want to scale the data as shown in:\n",
      "    https://scikit-learn.org/stable/modules/preprocessing.html\n",
      "Please also refer to the documentation for alternative solver options:\n",
      "    https://scikit-learn.org/stable/modules/linear_model.html#logistic-regression\n",
      "  n_iter_i = _check_optimize_result(\n",
      "c:\\Users\\Ansh\\AppData\\Local\\Programs\\Python\\Python312\\Lib\\site-packages\\sklearn\\linear_model\\_logistic.py:470: ConvergenceWarning: lbfgs failed to converge after 100 iteration(s) (status=1):\n",
      "STOP: TOTAL NO. OF ITERATIONS REACHED LIMIT\n",
      "\n",
      "Increase the number of iterations to improve the convergence (max_iter=100).\n",
      "You might also want to scale the data as shown in:\n",
      "    https://scikit-learn.org/stable/modules/preprocessing.html\n",
      "Please also refer to the documentation for alternative solver options:\n",
      "    https://scikit-learn.org/stable/modules/linear_model.html#logistic-regression\n",
      "  n_iter_i = _check_optimize_result(\n"
     ]
    },
    {
     "name": "stdout",
     "output_type": "stream",
     "text": [
      "Accuracy: 0.8163\n",
      "ROC-AUC: 0.8486\n",
      "CV Score: 0.8202 (+/- 0.0090)\n",
      "\n",
      "Training Decision Tree...\n",
      "Accuracy: 0.8061\n",
      "ROC-AUC: 0.7398\n",
      "CV Score: 0.8069 (+/- 0.0094)\n",
      "\n",
      "Training Random Forest...\n",
      "Accuracy: 0.8540\n",
      "ROC-AUC: 0.9025\n",
      "CV Score: 0.8542 (+/- 0.0073)\n",
      "\n",
      "Training Gradient Boosting...\n",
      "Accuracy: 0.8589\n",
      "ROC-AUC: 0.9160\n",
      "CV Score: 0.8620 (+/- 0.0066)\n",
      "\n",
      "Training XGBoost...\n",
      "Accuracy: 0.8616\n",
      "ROC-AUC: 0.9204\n",
      "CV Score: 0.8675 (+/- 0.0073)\n",
      "\n",
      "🏆 Best Model: XGBoost (Accuracy: 0.8616)\n",
      "\n",
      "Model Performance Summary:\n",
      "==================================================\n",
      "              Model  Accuracy  ROC-AUC  CV Mean  CV Std\n",
      "            XGBoost    0.8616   0.9204   0.8675  0.0037\n",
      "  Gradient Boosting    0.8589   0.9160   0.8620  0.0033\n",
      "      Random Forest    0.8540   0.9025   0.8542  0.0037\n",
      "Logistic Regression    0.8163   0.8486   0.8202  0.0045\n",
      "      Decision Tree    0.8061   0.7398   0.8069  0.0047\n",
      "\n",
      "STEP 3: Hyperparameter Tuning\n",
      "----------------------------------------\n",
      "Tuning XGBoost...\n",
      "\n",
      "Performing hyperparameter tuning for XGBoost...\n",
      "Fitting 3 folds for each of 16 candidates, totalling 48 fits\n",
      "Best parameters: {'learning_rate': 0.1, 'max_depth': 6, 'n_estimators': 200, 'subsample': 1.0}\n",
      "Best cross-validation score: 0.8698\n",
      "\n",
      "Detailed Evaluation for Tuned XGBoost\n",
      "========================================\n",
      "\n",
      "Classification Report:\n",
      "              precision    recall  f1-score   support\n",
      "\n",
      "           0       0.89      0.94      0.91      4531\n",
      "           1       0.77      0.65      0.71      1502\n",
      "\n",
      "    accuracy                           0.87      6033\n",
      "   macro avg       0.83      0.79      0.81      6033\n",
      "weighted avg       0.86      0.87      0.86      6033\n",
      "\n",
      "\n",
      "Confusion Matrix:\n",
      "[[4244  287]\n",
      " [ 527  975]]\n",
      "\n",
      "Tuned model accuracy: 0.8651\n",
      "Tuned model performs better. Updated best model.\n",
      "\n",
      "STEP 4: Feature Importance Analysis\n",
      "----------------------------------------\n"
     ]
    },
    {
     "data": {
      "image/png": "[encoded data removed]",
      "text/plain": [
       "<Figure size 1000x800 with 1 Axes>"
      ]
     },
     "metadata": {},
     "output_type": "display_data"
    },
    {
     "name": "stdout",
     "output_type": "stream",
     "text": [
      "\n",
      "Top 10 Most Important Features:\n",
      "        feature  importance\n",
      "   relationship    0.335891\n",
      " marital_status    0.186799\n",
      "educational_num    0.127358\n",
      "   capital_gain    0.122512\n",
      "   capital_loss    0.053414\n",
      "            age    0.030096\n",
      "     occupation    0.028328\n",
      " hours_per_week    0.026587\n",
      "         gender    0.026236\n",
      "      workclass    0.016496\n",
      "\n",
      "STEP 5: Final Model Evaluation\n",
      "----------------------------------------\n",
      "\n",
      "Detailed Evaluation for XGBoost\n",
      "========================================\n",
      "\n",
      "Classification Report:\n",
      "              precision    recall  f1-score   support\n",
      "\n",
      "           0       0.89      0.94      0.91      4531\n",
      "           1       0.77      0.65      0.71      1502\n",
      "\n",
      "    accuracy                           0.87      6033\n",
      "   macro avg       0.83      0.79      0.81      6033\n",
      "weighted avg       0.86      0.87      0.86      6033\n",
      "\n",
      "\n",
      "Confusion Matrix:\n",
      "[[4244  287]\n",
      " [ 527  975]]\n",
      "\n",
      "STEP 6: Saving Models\n",
      "------------------------------\n",
      "Model saved to models/xgboost_model.pkl\n",
      "Preprocessor saved to models/preprocessor.pkl\n",
      "Model metadata saved to models/model_metadata.json\n",
      "\n",
      "TRAINING COMPLETED SUCCESSFULLY!\n",
      "==================================================\n",
      "Best Model: XGBoost\n",
      "Test Accuracy: 0.8616\n",
      "ROC-AUC Score: 0.9204\n",
      "\n",
      "Files created:\n",
      "- models/preprocessor.pkl\n",
      "- models/xgboost_model.pkl\n",
      "- models/model_metadata.json\n",
      "\n",
      "Ready for deployment!\n"
     ]
    }
   ],
   "source": [
    "import sys\n",
    "import os\n",
    "import joblib\n",
    "from data_preprocessing import DataPreprocessor\n",
    "from model_training import ModelTrainer\n",
    "from utils import generate_eda_report, create_model_comparison_chart\n",
    "import pandas as pd\n",
    "\n",
    "def main():\n",
    "    \"\"\"Main training pipeline\"\"\"\n",
    "    print(\"Starting Employee Income Prediction ML Pipeline\")\n",
    "    print(\"=\"*60)\n",
    "\n",
    "    # Step 1: Data Preprocessing\n",
    "    print(\"\\nSTEP 1: Data Preprocessing\")\n",
    "    print(\"-\" * 30)\n",
    "    preprocessor = DataPreprocessor()\n",
    "    X_train, X_test, y_train, y_test, df_clean = preprocessor.prepare_data()\n",
    "\n",
    "    # Generate EDA report\n",
    "    eda_report = generate_eda_report(df_clean)\n",
    "    print(f\"\\nDataset Overview:\")\n",
    "    print(f\"Shape: {eda_report['shape']}\")\n",
    "    print(f\"Features: {list(X_train.columns)}\")\n",
    "\n",
    "    # Step 2: Model Training\n",
    "    print(\"\\nSTEP 2: Model Training\")\n",
    "    print(\"-\" * 30)\n",
    "    trainer = ModelTrainer()\n",
    "    trainer.train_models(X_train, y_train, X_test, y_test)\n",
    "\n",
    "    # Display model summary\n",
    "    summary_df = trainer.get_model_summary()\n",
    "\n",
    "    # Step 3: Hyperparameter Tuning (Optional)\n",
    "    print(\"\\nSTEP 3: Hyperparameter Tuning\")\n",
    "    print(\"-\" * 40)\n",
    "\n",
    "    # Tune the best performing model\n",
    "    if trainer.best_model_name in ['Random Forest', 'XGBoost']:\n",
    "        print(f\"Tuning {trainer.best_model_name}...\")\n",
    "        tuned_model = trainer.hyperparameter_tuning(X_train, y_train, trainer.best_model_name)\n",
    "\n",
    "        # Evaluate tuned model\n",
    "        tuned_results = trainer.evaluate_model(tuned_model, X_test, y_test, f\"Tuned {trainer.best_model_name}\")\n",
    "        print(f\"\\nTuned model accuracy: {tuned_results['accuracy']:.4f}\")\n",
    "\n",
    "        # Update best model if tuned version is better\n",
    "        if tuned_results['accuracy'] > trainer.model_results[trainer.best_model_name]['accuracy']:\n",
    "            trainer.best_model = tuned_model\n",
    "            print(\"Tuned model performs better. Updated best model.\")\n",
    "    else:\n",
    "        print(f\"Hyperparameter tuning skipped for {trainer.best_model_name}\")\n",
    "\n",
    "    # Step 4: Feature Importance Analysis\n",
    "    print(\"\\nSTEP 4: Feature Importance Analysis\")\n",
    "    print(\"-\" * 40)\n",
    "    if hasattr(trainer.best_model, 'feature_importances_'):\n",
    "        importance_df = trainer.plot_feature_importance(trainer.best_model, preprocessor.feature_names)\n",
    "        print(\"\\nTop 10 Most Important Features:\")\n",
    "        print(importance_df.head(10).to_string(index=False))\n",
    "\n",
    "    # Step 5: Final Evaluation\n",
    "    print(\"\\nSTEP 5: Final Model Evaluation\")\n",
    "    print(\"-\" * 40)\n",
    "    final_results = trainer.evaluate_model(trainer.best_model, X_test, y_test, trainer.best_model_name)\n",
    "\n",
    "    # Step 6: Save Models and Preprocessor\n",
    "    print(\"\\nSTEP 6: Saving Models\")\n",
    "    print(\"-\" * 30)\n",
    "\n",
    "    # Create models directory\n",
    "    os.makedirs('models', exist_ok=True)\n",
    "\n",
    "    # Save best model\n",
    "    trainer.save_model(trainer.best_model, trainer.best_model_name)\n",
    "\n",
    "    # Save preprocessor\n",
    "    joblib.dump(preprocessor, 'models/preprocessor.pkl')\n",
    "    print(\"Preprocessor saved to models/preprocessor.pkl\")\n",
    "\n",
    "    # Save model metadata\n",
    "    metadata = {\n",
    "        'best_model_name': trainer.best_model_name,\n",
    "        'best_accuracy': trainer.model_results[trainer.best_model_name]['accuracy'],\n",
    "        'feature_names': preprocessor.feature_names,\n",
    "        'model_results': {k: {\n",
    "            'accuracy': v['accuracy'],\n",
    "            'roc_auc': v['roc_auc'],\n",
    "            'cv_mean': v['cv_mean']\n",
    "        } for k, v in trainer.model_results.items()}\n",
    "    }\n",
    "\n",
    "    import json\n",
    "    with open('models/model_metadata.json', 'w') as f:\n",
    "        json.dump(metadata, f, indent=2)\n",
    "    print(\"Model metadata saved to models/model_metadata.json\")\n",
    "\n",
    "    # Final Summary\n",
    "    print(\"\\nTRAINING COMPLETED SUCCESSFULLY!\")\n",
    "    print(\"=\"*50)\n",
    "    print(f\"Best Model: {trainer.best_model_name}\")\n",
    "    print(f\"Test Accuracy: {trainer.model_results[trainer.best_model_name]['accuracy']:.4f}\")\n",
    "    print(f\"ROC-AUC Score: {trainer.model_results[trainer.best_model_name]['roc_auc']:.4f}\")\n",
    "    print(\"\\nFiles created:\")\n",
    "    print(\"- models/preprocessor.pkl\")\n",
    "    print(f\"- models/{trainer.best_model_name.lower().replace(' ', '_')}_model.pkl\")\n",
    "    print(\"- models/model_metadata.json\")\n",
    "    print(\"\\nReady for deployment!\")\n",
    "\n",
    "if __name__ == \"__main__\":\n",
    "    main()\n"
   ]
  },
  {
   "cell_type": "markdown",
   "id": "c50939da",
   "metadata": {},
   "source": [
    "\n",
    "---\n",
    "\n",
    "## Overview: Visualization Utilities for Income Prediction\n",
    "\n",
    "This module provides essential visualization tools designed for evaluating and interpreting machine learning models used in income classification tasks (e.g., predicting whether an individual's income is `<=50K` or `>50K`).\n",
    "\n",
    "## What This Code Does\n",
    "\n",
    "The script includes the following key functionalities:\n",
    "\n",
    "### 1. Confusion Matrix Plot\n",
    "- **Purpose**: Visualize model performance by comparing actual vs. predicted labels.\n",
    "- **Tool Used**: Seaborn heatmap.\n",
    "- **Function**: `plot_confusion_matrix(y_true, y_pred)`\n",
    "\n",
    "### 2. Feature Distribution Plot\n",
    "- **Purpose**: Explore how a specific feature is distributed overall and across income classes.\n",
    "- **Functionality**:\n",
    "  - For **categorical** features: bar chart + stacked bar by income.\n",
    "  - For **numerical** features: histogram + box plot by income.\n",
    "- **Function**: `plot_feature_distribution(df, feature)`\n",
    "\n",
    "### 3. Model Performance Comparison Chart\n",
    "- **Purpose**: Compare multiple machine learning models based on Accuracy and ROC-AUC.\n",
    "- **Tool Used**: Plotly Interactive Bar Chart.\n",
    "- **Function**: `create_model_comparison_chart(model_results)`\n",
    "\n",
    "## Additional Info\n",
    "- Each function includes a demo call using randomly generated data.\n",
    "- All plots are displayed using `.show()` to ensure visible output when the script is run.\n",
    "- Ideal for use in notebooks, scripts, or dashboards (e.g., Streamlit).\n",
    "\n"
   ]
  },
  {
   "cell_type": "code",
   "execution_count": 1,
   "id": "d9235029",
   "metadata": {},
   "outputs": [
    {
     "data": {
      "image/png": "[encoded data removed]",
      "text/plain": [
       "<Figure size 800x600 with 2 Axes>"
      ]
     },
     "metadata": {},
     "output_type": "display_data"
    },
    {
     "data": {
      "image/png": "[encoded data removed]",
      "text/plain": [
       "<Figure size 1200x500 with 2 Axes>"
      ]
     },
     "metadata": {},
     "output_type": "display_data"
    },
    {
     "data": {
      "image/png": "[encoded data removed]",
      "text/plain": [
       "<Figure size 1200x500 with 2 Axes>"
      ]
     },
     "metadata": {},
     "output_type": "display_data"
    },
    {
     "data": {
      "application/vnd.plotly.v1+json": {
       "config": {
        "plotlyServerURL": "https://plot.ly"
       },
       "data": [
        {
         "marker": {
          "color": "lightblue"
         },
         "name": "Accuracy",
         "type": "bar",
         "x": [
          "Logistic Regression",
          "Random Forest",
          "XGBoost"
         ],
         "y": [
          0.82,
          0.87,
          0.89
         ]
        },
        {
         "marker": {
          "color": "lightcoral"
         },
         "name": "ROC-AUC",
         "type": "bar",
         "x": [
          "Logistic Regression",
          "Random Forest",
          "XGBoost"
         ],
         "y": [
          0.88,
          0.91,
          0.93
         ]
        }
       ],
       "layout": {
        "barmode": "group",
        "height": 500,
        "template": {
         "data": {
          "bar": [
           {
            "error_x": {
             "color": "#2a3f5f"
            },
            "error_y": {
             "color": "#2a3f5f"
            },
            "marker": {
             "line": {
              "color": "#E5ECF6",
              "width": 0.5
             },
             "pattern": {
              "fillmode": "overlay",
              "size": 10,
              "solidity": 0.2
             }
            },
            "type": "bar"
           }
          ],
          "barpolar": [
           {
            "marker": {
             "line": {
              "color": "#E5ECF6",
              "width": 0.5
             },
             "pattern": {
              "fillmode": "overlay",
              "size": 10,
              "solidity": 0.2
             }
            },
            "type": "barpolar"
           }
          ],
          "carpet": [
           {
            "aaxis": {
             "endlinecolor": "#2a3f5f",
             "gridcolor": "white",
             "linecolor": "white",
             "minorgridcolor": "white",
             "startlinecolor": "#2a3f5f"
            },
            "baxis": {
             "endlinecolor": "#2a3f5f",
             "gridcolor": "white",
             "linecolor": "white",
             "minorgridcolor": "white",
             "startlinecolor": "#2a3f5f"
            },
            "type": "carpet"
           }
          ],
          "choropleth": [
           {
            "colorbar": {
             "outlinewidth": 0,
             "ticks": ""
            },
            "type": "choropleth"
           }
          ],
          "contour": [
           {
            "colorbar": {
             "outlinewidth": 0,
             "ticks": ""
            },
            "colorscale": [
             [
              0,
              "#0d0887"
             ],
             [
              0.1111111111111111,
              "#46039f"
             ],
             [
              0.2222222222222222,
              "#7201a8"
             ],
             [
              0.3333333333333333,
              "#9c179e"
             ],
             [
              0.4444444444444444,
              "#bd3786"
             ],
             [
              0.5555555555555556,
              "#d8576b"
             ],
             [
              0.6666666666666666,
              "#ed7953"
             ],
             [
              0.7777777777777778,
              "#fb9f3a"
             ],
             [
              0.8888888888888888,
              "#fdca26"
             ],
             [
              1,
              "#f0f921"
             ]
            ],
            "type": "contour"
           }
          ],
          "contourcarpet": [
           {
            "colorbar": {
             "outlinewidth": 0,
             "ticks": ""
            },
            "type": "contourcarpet"
           }
          ],
          "heatmap": [
           {
            "colorbar": {
             "outlinewidth": 0,
             "ticks": ""
            },
            "colorscale": [
             [
              0,
              "#0d0887"
             ],
             [
              0.1111111111111111,
              "#46039f"
             ],
             [
              0.2222222222222222,
              "#7201a8"
             ],
             [
              0.3333333333333333,
              "#9c179e"
             ],
             [
              0.4444444444444444,
              "#bd3786"
             ],
             [
              0.5555555555555556,
              "#d8576b"
             ],
             [
              0.6666666666666666,
              "#ed7953"
             ],
             [
              0.7777777777777778,
              "#fb9f3a"
             ],
             [
              0.8888888888888888,
              "#fdca26"
             ],
             [
              1,
              "#f0f921"
             ]
            ],
            "type": "heatmap"
           }
          ],
          "histogram": [
           {
            "marker": {
             "pattern": {
              "fillmode": "overlay",
              "size": 10,
              "solidity": 0.2
             }
            },
            "type": "histogram"
           }
          ],
          "histogram2d": [
           {
            "colorbar": {
             "outlinewidth": 0,
             "ticks": ""
            },
            "colorscale": [
             [
              0,
              "#0d0887"
             ],
             [
              0.1111111111111111,
              "#46039f"
             ],
             [
              0.2222222222222222,
              "#7201a8"
             ],
             [
              0.3333333333333333,
              "#9c179e"
             ],
             [
              0.4444444444444444,
              "#bd3786"
             ],
             [
              0.5555555555555556,
              "#d8576b"
             ],
             [
              0.6666666666666666,
              "#ed7953"
             ],
             [
              0.7777777777777778,
              "#fb9f3a"
             ],
             [
              0.8888888888888888,
              "#fdca26"
             ],
             [
              1,
              "#f0f921"
             ]
            ],
            "type": "histogram2d"
           }
          ],
          "histogram2dcontour": [
           {
            "colorbar": {
             "outlinewidth": 0,
             "ticks": ""
            },
            "colorscale": [
             [
              0,
              "#0d0887"
             ],
             [
              0.1111111111111111,
              "#46039f"
             ],
             [
              0.2222222222222222,
              "#7201a8"
             ],
             [
              0.3333333333333333,
              "#9c179e"
             ],
             [
              0.4444444444444444,
              "#bd3786"
             ],
             [
              0.5555555555555556,
              "#d8576b"
             ],
             [
              0.6666666666666666,
              "#ed7953"
             ],
             [
              0.7777777777777778,
              "#fb9f3a"
             ],
             [
              0.8888888888888888,
              "#fdca26"
             ],
             [
              1,
              "#f0f921"
             ]
            ],
            "type": "histogram2dcontour"
           }
          ],
          "mesh3d": [
           {
            "colorbar": {
             "outlinewidth": 0,
             "ticks": ""
            },
            "type": "mesh3d"
           }
          ],
          "parcoords": [
           {
            "line": {
             "colorbar": {
              "outlinewidth": 0,
              "ticks": ""
             }
            },
            "type": "parcoords"
           }
          ],
          "pie": [
           {
            "automargin": true,
            "type": "pie"
           }
          ],
          "scatter": [
           {
            "fillpattern": {
             "fillmode": "overlay",
             "size": 10,
             "solidity": 0.2
            },
            "type": "scatter"
           }
          ],
          "scatter3d": [
           {
            "line": {
             "colorbar": {
              "outlinewidth": 0,
              "ticks": ""
             }
            },
            "marker": {
             "colorbar": {
              "outlinewidth": 0,
              "ticks": ""
             }
            },
            "type": "scatter3d"
           }
          ],
          "scattercarpet": [
           {
            "marker": {
             "colorbar": {
              "outlinewidth": 0,
              "ticks": ""
             }
            },
            "type": "scattercarpet"
           }
          ],
          "scattergeo": [
           {
            "marker": {
             "colorbar": {
              "outlinewidth": 0,
              "ticks": ""
             }
            },
            "type": "scattergeo"
           }
          ],
          "scattergl": [
           {
            "marker": {
             "colorbar": {
              "outlinewidth": 0,
              "ticks": ""
             }
            },
            "type": "scattergl"
           }
          ],
          "scattermap": [
           {
            "marker": {
             "colorbar": {
              "outlinewidth": 0,
              "ticks": ""
             }
            },
            "type": "scattermap"
           }
          ],
          "scattermapbox": [
           {
            "marker": {
             "colorbar": {
              "outlinewidth": 0,
              "ticks": ""
             }
            },
            "type": "scattermapbox"
           }
          ],
          "scatterpolar": [
           {
            "marker": {
             "colorbar": {
              "outlinewidth": 0,
              "ticks": ""
             }
            },
            "type": "scatterpolar"
           }
          ],
          "scatterpolargl": [
           {
            "marker": {
             "colorbar": {
              "outlinewidth": 0,
              "ticks": ""
             }
            },
            "type": "scatterpolargl"
           }
          ],
          "scatterternary": [
           {
            "marker": {
             "colorbar": {
              "outlinewidth": 0,
              "ticks": ""
             }
            },
            "type": "scatterternary"
           }
          ],
          "surface": [
           {
            "colorbar": {
             "outlinewidth": 0,
             "ticks": ""
            },
            "colorscale": [
             [
              0,
              "#0d0887"
             ],
             [
              0.1111111111111111,
              "#46039f"
             ],
             [
              0.2222222222222222,
              "#7201a8"
             ],
             [
              0.3333333333333333,
              "#9c179e"
             ],
             [
              0.4444444444444444,
              "#bd3786"
             ],
             [
              0.5555555555555556,
              "#d8576b"
             ],
             [
              0.6666666666666666,
              "#ed7953"
             ],
             [
              0.7777777777777778,
              "#fb9f3a"
             ],
             [
              0.8888888888888888,
              "#fdca26"
             ],
             [
              1,
              "#f0f921"
             ]
            ],
            "type": "surface"
           }
          ],
          "table": [
           {
            "cells": {
             "fill": {
              "color": "#EBF0F8"
             },
             "line": {
              "color": "white"
             }
            },
            "header": {
             "fill": {
              "color": "#C8D4E3"
             },
             "line": {
              "color": "white"
             }
            },
            "type": "table"
           }
          ]
         },
         "layout": {
          "annotationdefaults": {
           "arrowcolor": "#2a3f5f",
           "arrowhead": 0,
           "arrowwidth": 1
          },
          "autotypenumbers": "strict",
          "coloraxis": {
           "colorbar": {
            "outlinewidth": 0,
            "ticks": ""
           }
          },
          "colorscale": {
           "diverging": [
            [
             0,
             "#8e0152"
            ],
            [
             0.1,
             "#c51b7d"
            ],
            [
             0.2,
             "#de77ae"
            ],
            [
             0.3,
             "#f1b6da"
            ],
            [
             0.4,
             "#fde0ef"
            ],
            [
             0.5,
             "#f7f7f7"
            ],
            [
             0.6,
             "#e6f5d0"
            ],
            [
             0.7,
             "#b8e186"
            ],
            [
             0.8,
             "#7fbc41"
            ],
            [
             0.9,
             "#4d9221"
            ],
            [
             1,
             "#276419"
            ]
           ],
           "sequential": [
            [
             0,
             "#0d0887"
            ],
            [
             0.1111111111111111,
             "#46039f"
            ],
            [
             0.2222222222222222,
             "#7201a8"
            ],
            [
             0.3333333333333333,
             "#9c179e"
            ],
            [
             0.4444444444444444,
             "#bd3786"
            ],
            [
             0.5555555555555556,
             "#d8576b"
            ],
            [
             0.6666666666666666,
             "#ed7953"
            ],
            [
             0.7777777777777778,
             "#fb9f3a"
            ],
            [
             0.8888888888888888,
             "#fdca26"
            ],
            [
             1,
             "#f0f921"
            ]
           ],
           "sequentialminus": [
            [
             0,
             "#0d0887"
            ],
            [
             0.1111111111111111,
             "#46039f"
            ],
            [
             0.2222222222222222,
             "#7201a8"
            ],
            [
             0.3333333333333333,
             "#9c179e"
            ],
            [
             0.4444444444444444,
             "#bd3786"
            ],
            [
             0.5555555555555556,
             "#d8576b"
            ],
            [
             0.6666666666666666,
             "#ed7953"
            ],
            [
             0.7777777777777778,
             "#fb9f3a"
            ],
            [
             0.8888888888888888,
             "#fdca26"
            ],
            [
             1,
             "#f0f921"
            ]
           ]
          },
          "colorway": [
           "#636efa",
           "#EF553B",
           "#00cc96",
           "#ab63fa",
           "#FFA15A",
           "#19d3f3",
           "#FF6692",
           "#B6E880",
           "#FF97FF",
           "#FECB52"
          ],
          "font": {
           "color": "#2a3f5f"
          },
          "geo": {
           "bgcolor": "white",
           "lakecolor": "white",
           "landcolor": "#E5ECF6",
           "showlakes": true,
           "showland": true,
           "subunitcolor": "white"
          },
          "hoverlabel": {
           "align": "left"
          },
          "hovermode": "closest",
          "mapbox": {
           "style": "light"
          },
          "paper_bgcolor": "white",
          "plot_bgcolor": "#E5ECF6",
          "polar": {
           "angularaxis": {
            "gridcolor": "white",
            "linecolor": "white",
            "ticks": ""
           },
           "bgcolor": "#E5ECF6",
           "radialaxis": {
            "gridcolor": "white",
            "linecolor": "white",
            "ticks": ""
           }
          },
          "scene": {
           "xaxis": {
            "backgroundcolor": "#E5ECF6",
            "gridcolor": "white",
            "gridwidth": 2,
            "linecolor": "white",
            "showbackground": true,
            "ticks": "",
            "zerolinecolor": "white"
           },
           "yaxis": {
            "backgroundcolor": "#E5ECF6",
            "gridcolor": "white",
            "gridwidth": 2,
            "linecolor": "white",
            "showbackground": true,
            "ticks": "",
            "zerolinecolor": "white"
           },
           "zaxis": {
            "backgroundcolor": "#E5ECF6",
            "gridcolor": "white",
            "gridwidth": 2,
            "linecolor": "white",
            "showbackground": true,
            "ticks": "",
            "zerolinecolor": "white"
           }
          },
          "shapedefaults": {
           "line": {
            "color": "#2a3f5f"
           }
          },
          "ternary": {
           "aaxis": {
            "gridcolor": "white",
            "linecolor": "white",
            "ticks": ""
           },
           "baxis": {
            "gridcolor": "white",
            "linecolor": "white",
            "ticks": ""
           },
           "bgcolor": "#E5ECF6",
           "caxis": {
            "gridcolor": "white",
            "linecolor": "white",
            "ticks": ""
           }
          },
          "title": {
           "x": 0.05
          },
          "xaxis": {
           "automargin": true,
           "gridcolor": "white",
           "linecolor": "white",
           "ticks": "",
           "title": {
            "standoff": 15
           },
           "zerolinecolor": "white",
           "zerolinewidth": 2
          },
          "yaxis": {
           "automargin": true,
           "gridcolor": "white",
           "linecolor": "white",
           "ticks": "",
           "title": {
            "standoff": 15
           },
           "zerolinecolor": "white",
           "zerolinewidth": 2
          }
         }
        },
        "title": {
         "text": "Model Performance Comparison"
        },
        "xaxis": {
         "title": {
          "text": "Models"
         }
        },
        "yaxis": {
         "title": {
          "text": "Score"
         }
        }
       }
      }
     },
     "metadata": {},
     "output_type": "display_data"
    }
   ],
   "source": [
    "import pandas as pd\n",
    "import numpy as np\n",
    "import matplotlib.pyplot as plt\n",
    "import seaborn as sns\n",
    "from sklearn.metrics import confusion_matrix\n",
    "import plotly.graph_objects as go\n",
    "\n",
    "def plot_confusion_matrix(y_true, y_pred, labels=['<=50K', '>50K'], title='Confusion Matrix'):\n",
    "    \"\"\"Plot confusion matrix using seaborn\"\"\"\n",
    "    cm = confusion_matrix(y_true, y_pred)\n",
    "    plt.figure(figsize=(8, 6))\n",
    "    sns.heatmap(cm, annot=True, fmt='d', cmap='Blues', \n",
    "                xticklabels=labels, yticklabels=labels)\n",
    "    plt.title(title)\n",
    "    plt.xlabel('Predicted')\n",
    "    plt.ylabel('Actual')\n",
    "    plt.tight_layout()\n",
    "    plt.show()\n",
    "\n",
    "def plot_feature_distribution(df, feature, target='income', figsize=(12, 5)):\n",
    "    \"\"\"Plot feature distribution by target variable\"\"\"\n",
    "    fig, (ax1, ax2) = plt.subplots(1, 2, figsize=figsize)\n",
    "    if df[feature].dtype == 'object':\n",
    "        df[feature].value_counts().plot(kind='bar', ax=ax1)\n",
    "        ax1.set_title(f'Distribution of {feature}')\n",
    "        ax1.tick_params(axis='x', rotation=45)\n",
    "        pd.crosstab(df[feature], df[target], normalize='index').plot(kind='bar', ax=ax2)\n",
    "        ax2.set_title(f'{feature} by {target}')\n",
    "        ax2.tick_params(axis='x', rotation=45)\n",
    "    else:\n",
    "        df[feature].hist(bins=30, ax=ax1)\n",
    "        ax1.set_title(f'Distribution of {feature}')\n",
    "        df.boxplot(column=feature, by=target, ax=ax2)\n",
    "        ax2.set_title(f'{feature} by {target}')\n",
    "    plt.tight_layout()\n",
    "    plt.show()\n",
    "\n",
    "def create_model_comparison_chart(model_results):\n",
    "    \"\"\"Create interactive comparison chart for model performance\"\"\"\n",
    "    models = list(model_results.keys())\n",
    "    accuracies = [model_results[model]['accuracy'] for model in models]\n",
    "    roc_aucs = [model_results[model]['roc_auc'] for model in models]\n",
    "    fig = go.Figure(data=[\n",
    "        go.Bar(name='Accuracy', x=models, y=accuracies, marker_color='lightblue'),\n",
    "        go.Bar(name='ROC-AUC', x=models, y=roc_aucs, marker_color='lightcoral')\n",
    "    ])\n",
    "    fig.update_layout(\n",
    "        title='Model Performance Comparison',\n",
    "        xaxis_title='Models',\n",
    "        yaxis_title='Score',\n",
    "        barmode='group',\n",
    "        height=500\n",
    "    )\n",
    "    fig.show()\n",
    "\n",
    "# ==== Demonstration of Outputs ====\n",
    "\n",
    "# Confusion Matrix Example\n",
    "y_true = [0, 0, 1, 1, 0, 1, 0, 1, 1, 0]  # Ground truth\n",
    "y_pred = [0, 1, 1, 1, 0, 0, 0, 1, 0, 0]  # Predictions\n",
    "plot_confusion_matrix(y_true, y_pred)\n",
    "\n",
    "# Feature Distribution Example\n",
    "np.random.seed(0)\n",
    "sample_df = pd.DataFrame({\n",
    "    'income': np.random.choice(['<=50K', '>50K'], size=100),\n",
    "    'age': np.random.randint(20, 70, size=100),\n",
    "    'education': np.random.choice(['Bachelors', 'HS-grad', 'Masters'], size=100)\n",
    "})\n",
    "plot_feature_distribution(sample_df, 'education')\n",
    "plot_feature_distribution(sample_df, 'age')\n",
    "\n",
    "# Model Comparison Chart Example\n",
    "sample_results = {\n",
    "    'Logistic Regression': {'accuracy': 0.82, 'roc_auc': 0.88},\n",
    "    'Random Forest': {'accuracy': 0.87, 'roc_auc': 0.91},\n",
    "    'XGBoost': {'accuracy': 0.89, 'roc_auc': 0.93}\n",
    "}\n",
    "create_model_comparison_chart(sample_results)\n"
   ]
  }
 ],
 "metadata": {
  "kernelspec": {
   "display_name": "Python 3",
   "language": "python",
   "name": "python3"
  },
  "language_info": {
   "codemirror_mode": {
    "name": "ipython",
    "version": 3
   },
   "file_extension": ".py",
   "mimetype": "text/x-python",
   "name": "python",
   "nbconvert_exporter": "python",
   "pygments_lexer": "ipython3",
   "version": "3.12.1"
  }
 },
 "nbformat": 4,
 "nbformat_minor": 5
}
